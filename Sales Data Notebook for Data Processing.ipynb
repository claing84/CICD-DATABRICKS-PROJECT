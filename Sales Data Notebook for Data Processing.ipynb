{
 "cells": [
  {
   "cell_type": "code",
   "execution_count": 0,
   "metadata": {
    "application/vnd.databricks.v1+cell": {
     "cellMetadata": {},
     "inputWidgets": {},
     "nuid": "b9a3700f-a1b9-45b9-9e71-5a3eabfd0899",
     "showTitle": false,
     "tableResultSettingsMap": {},
     "title": ""
    }
   },
   "outputs": [],
   "source": [
    "from pyspark.sql.types import StructType, StructField, StringType, IntegerType, DoubleType, DateType\n",
    "from pyspark.sql import Row\n",
    "from datetime import datetime\n",
    "\n",
    "# Define schema\n",
    "sales_schema = StructType([\n",
    "    StructField(\"OrderID\", StringType(), False),\n",
    "    StructField(\"OrderDate\", DateType(), False),\n",
    "    StructField(\"Region\", StringType(), True),\n",
    "    StructField(\"Product\", StringType(), False),\n",
    "    StructField(\"Category\", StringType(), False),\n",
    "    StructField(\"Price\", DoubleType(), True),\n",
    "    StructField(\"Quantity\", IntegerType(), False)\n",
    "])\n",
    "\n",
    "# Sample Data\n",
    "sales_data = [\n",
    "    (\"ORD009\", datetime(2022, 1, 10), \"West\", \"iPhone 15\", \"Electronics\", 1099.99, 3),\n",
    "    (\"ORD010\", datetime(2022, 2, 18), \"East\", \"MacBook Pro\", \"Electronics\", 1999.99, 1),\n",
    "    (\"ORD011\", datetime(2022, 3, 6), \"South\", \"Ergonomic Chair\", \"Furniture\", 499.99, 2),\n",
    "    (\"ORD012\", datetime(2022, 4, 20), \"North\", \"4K Monitor\", \"Electronics\", 329.99, 2),\n",
    "    (\"ORD013\", datetime(2022, 5, 1), \"West\", \"Echo Dot\", \"Electronics\", 99.99, 1),\n",
    "    (\"ORD014\", datetime(2022, 6, 15), \"East\", \"iPad Pro\", \"Electronics\", 899.99, 2),\n",
    "    (\"ORD015\", datetime(2022, 7, 28), \"South\", \"Standing Desk\", \"Furniture\", 499.99, 1),\n",
    "    (\"ORD016\", datetime(2022, 8, 12), \"North\", \"Echo Dot\", \"Electronics\", 99.99, 2),\n",
    "    (\"ORD001\", datetime(2022, 1, 10), \"West\", \"Macbook Air\", \"Electronics\", 1199.49, 1),\n",
    "    (\"ORD002\", datetime(2022, 1, 10), \"East\", \"Desk Chair\", \"Furniture\", 149.99, 4),\n",
    "    (\"ORD003\", datetime(2022, 1, 10), \"South\", \"Monitor\", \"Electronics\", 249.99, 2),\n",
    "    (\"ORD004\", datetime(2022, 1, 10), \"North\", \"Office Desk\", \"Furniture\", 399.99, 1),\n",
    "    (\"ORD005\", datetime(2022, 1, 10), \"West\", \"Printer\", \"Electronics\", 149.49, 1),\n",
    "    (\"ORD006\", datetime(2022, 1, 10), \"East\", \"iPad\", \"Electronics\", 499.99, 3),\n",
    "    (\"ORD007\", datetime(2022, 1, 10), \"South\", \"Bookshelf\", \"Furniture\", 199.99, 2),\n",
    "    (\"ORD008\", datetime(2022, 1, 10), \"North\", \"Printer\", \"Electronics\", 149.49, 1),\n",
    "]\n",
    "\n",
    "# Create DataFrame\n",
    "sales_df = spark.createDataFrame(data=sales_data, schema=sales_schema)"
   ]
  },
  {
   "cell_type": "code",
   "execution_count": 0,
   "metadata": {
    "application/vnd.databricks.v1+cell": {
     "cellMetadata": {},
     "inputWidgets": {},
     "nuid": "5ae66484-8343-486c-be0c-0b339cdeb347",
     "showTitle": false,
     "tableResultSettingsMap": {},
     "title": ""
    }
   },
   "outputs": [],
   "source": [
    "# Data Transformation\n",
    "from pyspark.sql.functions import year, month, col, expr\n",
    "\n",
    "sales_transformed = (\n",
    "    sales_df.withColumn(\"Year\", year(col(\"OrderDate\")))\n",
    "            .withColumn(\"Month\", month(col(\"OrderDate\")))\n",
    "            .withColumn(\"SalesAmount\", expr(\"Price * Quantity\"))\n",
    ")"
   ]
  },
  {
   "cell_type": "code",
   "execution_count": 0,
   "metadata": {
    "application/vnd.databricks.v1+cell": {
     "cellMetadata": {},
     "inputWidgets": {},
     "nuid": "c414baff-9401-489b-9592-68240f096811",
     "showTitle": false,
     "tableResultSettingsMap": {},
     "title": ""
    }
   },
   "outputs": [],
   "source": [
    "# Aggregation\n",
    "sales_summary = (\n",
    "    sales_transformed.groupBy(\"Region\", \"Category\")\n",
    "                     .sum(\"SalesAmount\")\n",
    "                     .withColumnRenamed(\"sum(SalesAmount)\", \"TotalSales\")\n",
    "                     .orderBy(\"Region\", \"Category\")\n",
    ")\n",
    "\n",
    "sales_summary.display()"
   ]
  },
  {
   "cell_type": "code",
   "execution_count": 0,
   "metadata": {
    "application/vnd.databricks.v1+cell": {
     "cellMetadata": {},
     "inputWidgets": {},
     "nuid": "9f632b2c-9bd3-4761-beed-b679d7e021ee",
     "showTitle": false,
     "tableResultSettingsMap": {},
     "title": ""
    }
   },
   "outputs": [],
   "source": [
    "# Save as Delta Table (overwrite mode)\n",
    "sales_transformed.write.format(\"delta\").mode(\"overwrite\").saveAsTable(\"one_data_uc.sales_schema.sales_git_table\")"
   ]
  }
 ],
 "metadata": {
  "application/vnd.databricks.v1+notebook": {
   "computePreferences": null,
   "dashboards": [],
   "environmentMetadata": {
    "base_environment": "",
    "environment_version": "2"
   },
   "inputWidgetPreferences": null,
   "language": "python",
   "notebookMetadata": {
    "pythonIndentUnit": 4
   },
   "notebookName": "Sales Data Notebook for Data Processing",
   "widgets": {}
  },
  "language_info": {
   "name": "python"
  }
 },
 "nbformat": 4,
 "nbformat_minor": 0
}
